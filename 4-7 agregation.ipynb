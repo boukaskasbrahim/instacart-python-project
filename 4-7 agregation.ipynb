{
 "cells": [
  {
   "cell_type": "code",
   "execution_count": 1,
   "id": "40621820-2115-4c31-9365-b06d347f73ad",
   "metadata": {},
   "outputs": [],
   "source": [
    "import pandas as pd\n",
    "import os\n"
   ]
  },
  {
   "cell_type": "code",
   "execution_count": 2,
   "id": "3518c9da-e892-460b-ba31-59cd37418f27",
   "metadata": {},
   "outputs": [
    {
     "data": {
      "text/html": [
       "<div>\n",
       "<style scoped>\n",
       "    .dataframe tbody tr th:only-of-type {\n",
       "        vertical-align: middle;\n",
       "    }\n",
       "\n",
       "    .dataframe tbody tr th {\n",
       "        vertical-align: top;\n",
       "    }\n",
       "\n",
       "    .dataframe thead th {\n",
       "        text-align: right;\n",
       "    }\n",
       "</style>\n",
       "<table border=\"1\" class=\"dataframe\">\n",
       "  <thead>\n",
       "    <tr style=\"text-align: right;\">\n",
       "      <th></th>\n",
       "      <th>order_id</th>\n",
       "      <th>user_id</th>\n",
       "      <th>order_number</th>\n",
       "      <th>order_dow</th>\n",
       "      <th>order_hour_of_day</th>\n",
       "      <th>days_since_prior_order</th>\n",
       "      <th>product_id</th>\n",
       "      <th>add_to_cart_order</th>\n",
       "      <th>reordered</th>\n",
       "      <th>product_name</th>\n",
       "      <th>aisle_id</th>\n",
       "      <th>department_id</th>\n",
       "      <th>prices</th>\n",
       "      <th>_merge</th>\n",
       "    </tr>\n",
       "  </thead>\n",
       "  <tbody>\n",
       "    <tr>\n",
       "      <th>0</th>\n",
       "      <td>2539329</td>\n",
       "      <td>1</td>\n",
       "      <td>1</td>\n",
       "      <td>2</td>\n",
       "      <td>8</td>\n",
       "      <td>NaN</td>\n",
       "      <td>196</td>\n",
       "      <td>1</td>\n",
       "      <td>0</td>\n",
       "      <td>Soda</td>\n",
       "      <td>77</td>\n",
       "      <td>7</td>\n",
       "      <td>9.0</td>\n",
       "      <td>both</td>\n",
       "    </tr>\n",
       "    <tr>\n",
       "      <th>1</th>\n",
       "      <td>2539329</td>\n",
       "      <td>1</td>\n",
       "      <td>1</td>\n",
       "      <td>2</td>\n",
       "      <td>8</td>\n",
       "      <td>NaN</td>\n",
       "      <td>14084</td>\n",
       "      <td>2</td>\n",
       "      <td>0</td>\n",
       "      <td>Organic Unsweetened Vanilla Almond Milk</td>\n",
       "      <td>91</td>\n",
       "      <td>16</td>\n",
       "      <td>12.5</td>\n",
       "      <td>both</td>\n",
       "    </tr>\n",
       "    <tr>\n",
       "      <th>2</th>\n",
       "      <td>2539329</td>\n",
       "      <td>1</td>\n",
       "      <td>1</td>\n",
       "      <td>2</td>\n",
       "      <td>8</td>\n",
       "      <td>NaN</td>\n",
       "      <td>12427</td>\n",
       "      <td>3</td>\n",
       "      <td>0</td>\n",
       "      <td>Original Beef Jerky</td>\n",
       "      <td>23</td>\n",
       "      <td>19</td>\n",
       "      <td>4.4</td>\n",
       "      <td>both</td>\n",
       "    </tr>\n",
       "    <tr>\n",
       "      <th>3</th>\n",
       "      <td>2539329</td>\n",
       "      <td>1</td>\n",
       "      <td>1</td>\n",
       "      <td>2</td>\n",
       "      <td>8</td>\n",
       "      <td>NaN</td>\n",
       "      <td>26088</td>\n",
       "      <td>4</td>\n",
       "      <td>0</td>\n",
       "      <td>Aged White Cheddar Popcorn</td>\n",
       "      <td>23</td>\n",
       "      <td>19</td>\n",
       "      <td>4.7</td>\n",
       "      <td>both</td>\n",
       "    </tr>\n",
       "    <tr>\n",
       "      <th>4</th>\n",
       "      <td>2539329</td>\n",
       "      <td>1</td>\n",
       "      <td>1</td>\n",
       "      <td>2</td>\n",
       "      <td>8</td>\n",
       "      <td>NaN</td>\n",
       "      <td>26405</td>\n",
       "      <td>5</td>\n",
       "      <td>0</td>\n",
       "      <td>XL Pick-A-Size Paper Towel Rolls</td>\n",
       "      <td>54</td>\n",
       "      <td>17</td>\n",
       "      <td>1.0</td>\n",
       "      <td>both</td>\n",
       "    </tr>\n",
       "  </tbody>\n",
       "</table>\n",
       "</div>"
      ],
      "text/plain": [
       "   order_id  user_id  order_number  order_dow  order_hour_of_day  \\\n",
       "0   2539329        1             1          2                  8   \n",
       "1   2539329        1             1          2                  8   \n",
       "2   2539329        1             1          2                  8   \n",
       "3   2539329        1             1          2                  8   \n",
       "4   2539329        1             1          2                  8   \n",
       "\n",
       "   days_since_prior_order  product_id  add_to_cart_order  reordered  \\\n",
       "0                     NaN         196                  1          0   \n",
       "1                     NaN       14084                  2          0   \n",
       "2                     NaN       12427                  3          0   \n",
       "3                     NaN       26088                  4          0   \n",
       "4                     NaN       26405                  5          0   \n",
       "\n",
       "                              product_name  aisle_id  department_id  prices  \\\n",
       "0                                     Soda        77              7     9.0   \n",
       "1  Organic Unsweetened Vanilla Almond Milk        91             16    12.5   \n",
       "2                      Original Beef Jerky        23             19     4.4   \n",
       "3               Aged White Cheddar Popcorn        23             19     4.7   \n",
       "4         XL Pick-A-Size Paper Towel Rolls        54             17     1.0   \n",
       "\n",
       "  _merge  \n",
       "0   both  \n",
       "1   both  \n",
       "2   both  \n",
       "3   both  \n",
       "4   both  "
      ]
     },
     "execution_count": 2,
     "metadata": {},
     "output_type": "execute_result"
    }
   ],
   "source": [
    "\n",
    "path = r\"/Users/boukaskasbrahim/Desktop/Achievement4_Project/Prepared Data\"\n",
    "\n",
    "ords_prods_merge = pd.read_pickle(os.path.join(path, \"ords_prods_merge.pkl\"))\n",
    "\n",
    "# Quick check\n",
    "ords_prods_merge.head()\n"
   ]
  },
  {
   "cell_type": "code",
   "execution_count": 3,
   "id": "af3e7990-3373-4d21-bfec-5e106eb682ae",
   "metadata": {},
   "outputs": [
    {
     "data": {
      "text/plain": [
       "price_label\n",
       "Mid-range product     21890146\n",
       "Low-range product     10126384\n",
       "High-range product      417682\n",
       "Name: count, dtype: int64"
      ]
     },
     "execution_count": 3,
     "metadata": {},
     "output_type": "execute_result"
    }
   ],
   "source": [
    "# Categorizing products by price range\n",
    "ords_prods_merge.loc[ords_prods_merge['prices'] <= 5, 'price_label'] = 'Low-range product'\n",
    "ords_prods_merge.loc[(ords_prods_merge['prices'] > 5) & (ords_prods_merge['prices'] <= 15), 'price_label'] = 'Mid-range product'\n",
    "ords_prods_merge.loc[ords_prods_merge['prices'] > 15, 'price_label'] = 'High-range product'\n",
    "\n",
    "# Verifying distribution\n",
    "ords_prods_merge['price_label'].value_counts()\n"
   ]
  },
  {
   "cell_type": "markdown",
   "id": "36f20ab6-6c38-4238-bbe1-7fe8f3529486",
   "metadata": {},
   "source": [
    "### Observation\n",
    "Products have been split into three categories: low-range, mid-range, and high-range.  \n",
    "This makes it easier to analyze customer spending behavior by product type.\n"
   ]
  },
  {
   "cell_type": "code",
   "execution_count": 12,
   "id": "e3d85d51-f25d-4024-bcb8-d84fef107ec3",
   "metadata": {},
   "outputs": [
    {
     "data": {
      "text/plain": [
       "order_dow\n",
       "0    6209632\n",
       "1    5665830\n",
       "2    4217766\n",
       "3    3844096\n",
       "4    3787193\n",
       "5    4209449\n",
       "6    4500246\n",
       "Name: count, dtype: int64"
      ]
     },
     "execution_count": 12,
     "metadata": {},
     "output_type": "execute_result"
    }
   ],
   "source": [
    "ords_prods_merge['order_dow'].value_counts().sort_index()\n"
   ]
  },
  {
   "cell_type": "code",
   "execution_count": 13,
   "id": "850935ae-2c50-4c82-8e0d-6a96dfdd71a6",
   "metadata": {},
   "outputs": [
    {
     "name": "stderr",
     "output_type": "stream",
     "text": [
      "/var/folders/fh/z04k5mcd3xz6ftdmhk_5j1m00000gn/T/ipykernel_22297/560534174.py:8: FutureWarning: A value is trying to be set on a copy of a DataFrame or Series through chained assignment using an inplace method.\n",
      "The behavior will change in pandas 3.0. This inplace method will never work because the intermediate object on which we are setting values always behaves as a copy.\n",
      "\n",
      "For example, when doing 'df[col].method(value, inplace=True)', try using 'df.method({col: value}, inplace=True)' or df[col] = df[col].method(value) instead, to perform the operation inplace on the original object.\n",
      "\n",
      "\n",
      "  ords_prods_merge['busiest_days'].fillna('Regularly busy', inplace=True)\n"
     ]
    },
    {
     "data": {
      "text/plain": [
       "busiest_days\n",
       "Regularly busy    12927461\n",
       "Busiest days      11875462\n",
       "Slowest days       7631289\n",
       "Name: count, dtype: int64"
      ]
     },
     "execution_count": 13,
     "metadata": {},
     "output_type": "execute_result"
    }
   ],
   "source": [
    "# Defining the busiest and slowest days \n",
    "busiest_days = [0, 1]   # top 2 busiest\n",
    "slowest_days = [3, 4]   # bottom 2 slowest\n",
    "\n",
    "# Creating new labels\n",
    "ords_prods_merge.loc[ords_prods_merge['order_dow'].isin(busiest_days), 'busiest_days'] = 'Busiest days'\n",
    "ords_prods_merge.loc[ords_prods_merge['order_dow'].isin(slowest_days), 'busiest_days'] = 'Slowest days'\n",
    "ords_prods_merge['busiest_days'].fillna('Regularly busy', inplace=True)\n",
    "\n",
    "# Verifying\n",
    "ords_prods_merge['busiest_days'].value_counts()\n"
   ]
  },
  {
   "cell_type": "code",
   "execution_count": 14,
   "id": "8226d851-35f1-4ab4-b110-2e0bee35257d",
   "metadata": {},
   "outputs": [
    {
     "data": {
      "text/plain": [
       "order_hour_of_day\n",
       "0      218942\n",
       "1      115786\n",
       "2       69431\n",
       "3       51317\n",
       "4       53283\n",
       "5       88057\n",
       "6      290770\n",
       "7      891928\n",
       "8     1719952\n",
       "9     2456661\n",
       "10    2764390\n",
       "11    2738585\n",
       "12    2620800\n",
       "13    2663272\n",
       "14    2691563\n",
       "15    2664522\n",
       "16    2537469\n",
       "17    2089452\n",
       "18    1637922\n",
       "19    1259382\n",
       "20     977017\n",
       "21     796362\n",
       "22     634737\n",
       "23     402612\n",
       "Name: count, dtype: int64"
      ]
     },
     "execution_count": 14,
     "metadata": {},
     "output_type": "execute_result"
    }
   ],
   "source": [
    "ords_prods_merge['order_hour_of_day'].value_counts().sort_index()\n"
   ]
  },
  {
   "cell_type": "code",
   "execution_count": 15,
   "id": "bfbce304-ee21-42f4-80a7-705bf9b121d6",
   "metadata": {},
   "outputs": [],
   "source": [
    "# Most orders: 9 AM to 4 PM\n",
    "ords_prods_merge.loc[ords_prods_merge['order_hour_of_day'].isin([9,10,11,12,13,14,15,16]), \n",
    "                     'busiest_period_of_day'] = 'Most orders'\n",
    "\n",
    "# Average orders: morning rise (7–8) + early evening (17–18)\n",
    "ords_prods_merge.loc[ords_prods_merge['order_hour_of_day'].isin([7,8,17,18]), \n",
    "                     'busiest_period_of_day'] = 'Average orders'\n",
    "\n",
    "# Fewest orders: late night + very early morning + late evening (0–6 and 19–23)\n",
    "ords_prods_merge['busiest_period_of_day'] = ords_prods_merge['busiest_period_of_day'].fillna('Fewest orders')\n",
    "\n",
    "# Verifying distribution\n"
   ]
  },
  {
   "cell_type": "markdown",
   "id": "7ce235c9-a810-4fbe-aea4-486113fa5999",
   "metadata": {},
   "source": [
    "### Observations\n",
    "- The **busiest period** for Instacart orders is between **9 AM and 4 PM**, when order volumes peak.\n",
    "- **Average activity** occurs during **7–8 AM** and **5–6 PM**, showing secondary surges.\n",
    "- **Fewest orders** happen overnight (0–6) and late evenings (7 PM–11 PM).\n"
   ]
  },
  {
   "cell_type": "code",
   "execution_count": 16,
   "id": "f4adcbce-64fc-4fdf-812d-ea655fd07002",
   "metadata": {},
   "outputs": [],
   "source": [
    "# Define path\n",
    "path = r\"/Users/boukaskasbrahim/Desktop/Achievement4_Project/Prepared Data\"\n",
    "\n",
    "# Export as pickle\n",
    "ords_prods_merge.to_pickle(os.path.join(path, \"ords_prods_derived.pkl\"))\n"
   ]
  }
 ],
 "metadata": {
  "kernelspec": {
   "display_name": "Python 3 (ipykernel)",
   "language": "python",
   "name": "python3"
  },
  "language_info": {
   "codemirror_mode": {
    "name": "ipython",
    "version": 3
   },
   "file_extension": ".py",
   "mimetype": "text/x-python",
   "name": "python",
   "nbconvert_exporter": "python",
   "pygments_lexer": "ipython3",
   "version": "3.13.5"
  }
 },
 "nbformat": 4,
 "nbformat_minor": 5
}
