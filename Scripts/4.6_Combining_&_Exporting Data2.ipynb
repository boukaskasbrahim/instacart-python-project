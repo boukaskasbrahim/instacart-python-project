{
 "cells": [
  {
   "cell_type": "code",
   "execution_count": 3,
   "id": "c8e2b6da-fd54-4b17-b4d0-28af18e3eedf",
   "metadata": {},
   "outputs": [
    {
     "name": "stdout",
     "output_type": "stream",
     "text": [
      "Shape of combined dataframe: (32434489, 10)\n"
     ]
    }
   ],
   "source": [
    "import pandas as pd\n",
    "import os\n",
    "\n",
    "# Defining path \n",
    "path = r'/Users/boukaskasbrahim/Desktop/Achievement4_Project/Prepared Data'\n",
    "\n",
    "# Importing the pickle\n",
    "df_combined = pd.read_pickle(os.path.join(path, 'orders_products_combined.pkl'))\n",
    "\n",
    "# Check shape\n",
    "print(\"Shape of combined dataframe:\", df_combined.shape)\n"
   ]
  },
  {
   "cell_type": "code",
   "execution_count": 4,
   "id": "33684949-d4b0-4ce1-b8dc-6d9f22ea4749",
   "metadata": {},
   "outputs": [],
   "source": [
    "df_prods = pd.read_csv(os.path.join(path, 'products_wrangled.csv'))\n"
   ]
  },
  {
   "cell_type": "code",
   "execution_count": 5,
   "id": "c864a16a-6d62-4817-aafd-d2151dd627b0",
   "metadata": {},
   "outputs": [
    {
     "ename": "ValueError",
     "evalue": "Cannot use name of an existing column for indicator column",
     "output_type": "error",
     "traceback": [
      "\u001b[31m---------------------------------------------------------------------------\u001b[39m",
      "\u001b[31mValueError\u001b[39m                                Traceback (most recent call last)",
      "\u001b[36mCell\u001b[39m\u001b[36m \u001b[39m\u001b[32mIn[5]\u001b[39m\u001b[32m, line 1\u001b[39m\n\u001b[32m----> \u001b[39m\u001b[32m1\u001b[39m ords_prods_merge = df_combined.merge(df_prods, on=\u001b[33m'\u001b[39m\u001b[33mproduct_id\u001b[39m\u001b[33m'\u001b[39m, indicator=\u001b[38;5;28;01mTrue\u001b[39;00m)\n\u001b[32m      3\u001b[39m \u001b[38;5;66;03m# Checking merge results\u001b[39;00m\n\u001b[32m      4\u001b[39m \u001b[38;5;28mprint\u001b[39m(ords_prods_merge[\u001b[33m'\u001b[39m\u001b[33m_merge\u001b[39m\u001b[33m'\u001b[39m].value_counts())\n",
      "\u001b[36mFile \u001b[39m\u001b[32m/opt/miniconda3/lib/python3.13/site-packages/pandas/core/frame.py:10839\u001b[39m, in \u001b[36mDataFrame.merge\u001b[39m\u001b[34m(self, right, how, on, left_on, right_on, left_index, right_index, sort, suffixes, copy, indicator, validate)\u001b[39m\n\u001b[32m  10820\u001b[39m \u001b[38;5;129m@Substitution\u001b[39m(\u001b[33m\"\u001b[39m\u001b[33m\"\u001b[39m)\n\u001b[32m  10821\u001b[39m \u001b[38;5;129m@Appender\u001b[39m(_merge_doc, indents=\u001b[32m2\u001b[39m)\n\u001b[32m  10822\u001b[39m \u001b[38;5;28;01mdef\u001b[39;00m\u001b[38;5;250m \u001b[39m\u001b[34mmerge\u001b[39m(\n\u001b[32m   (...)\u001b[39m\u001b[32m  10835\u001b[39m     validate: MergeValidate | \u001b[38;5;28;01mNone\u001b[39;00m = \u001b[38;5;28;01mNone\u001b[39;00m,\n\u001b[32m  10836\u001b[39m ) -> DataFrame:\n\u001b[32m  10837\u001b[39m     \u001b[38;5;28;01mfrom\u001b[39;00m\u001b[38;5;250m \u001b[39m\u001b[34;01mpandas\u001b[39;00m\u001b[34;01m.\u001b[39;00m\u001b[34;01mcore\u001b[39;00m\u001b[34;01m.\u001b[39;00m\u001b[34;01mreshape\u001b[39;00m\u001b[34;01m.\u001b[39;00m\u001b[34;01mmerge\u001b[39;00m\u001b[38;5;250m \u001b[39m\u001b[38;5;28;01mimport\u001b[39;00m merge\n\u001b[32m> \u001b[39m\u001b[32m10839\u001b[39m     \u001b[38;5;28;01mreturn\u001b[39;00m merge(\n\u001b[32m  10840\u001b[39m         \u001b[38;5;28mself\u001b[39m,\n\u001b[32m  10841\u001b[39m         right,\n\u001b[32m  10842\u001b[39m         how=how,\n\u001b[32m  10843\u001b[39m         on=on,\n\u001b[32m  10844\u001b[39m         left_on=left_on,\n\u001b[32m  10845\u001b[39m         right_on=right_on,\n\u001b[32m  10846\u001b[39m         left_index=left_index,\n\u001b[32m  10847\u001b[39m         right_index=right_index,\n\u001b[32m  10848\u001b[39m         sort=sort,\n\u001b[32m  10849\u001b[39m         suffixes=suffixes,\n\u001b[32m  10850\u001b[39m         copy=copy,\n\u001b[32m  10851\u001b[39m         indicator=indicator,\n\u001b[32m  10852\u001b[39m         validate=validate,\n\u001b[32m  10853\u001b[39m     )\n",
      "\u001b[36mFile \u001b[39m\u001b[32m/opt/miniconda3/lib/python3.13/site-packages/pandas/core/reshape/merge.py:184\u001b[39m, in \u001b[36mmerge\u001b[39m\u001b[34m(left, right, how, on, left_on, right_on, left_index, right_index, sort, suffixes, copy, indicator, validate)\u001b[39m\n\u001b[32m    169\u001b[39m \u001b[38;5;28;01melse\u001b[39;00m:\n\u001b[32m    170\u001b[39m     op = _MergeOperation(\n\u001b[32m    171\u001b[39m         left_df,\n\u001b[32m    172\u001b[39m         right_df,\n\u001b[32m   (...)\u001b[39m\u001b[32m    182\u001b[39m         validate=validate,\n\u001b[32m    183\u001b[39m     )\n\u001b[32m--> \u001b[39m\u001b[32m184\u001b[39m     \u001b[38;5;28;01mreturn\u001b[39;00m op.get_result(copy=copy)\n",
      "\u001b[36mFile \u001b[39m\u001b[32m/opt/miniconda3/lib/python3.13/site-packages/pandas/core/reshape/merge.py:884\u001b[39m, in \u001b[36m_MergeOperation.get_result\u001b[39m\u001b[34m(self, copy)\u001b[39m\n\u001b[32m    882\u001b[39m \u001b[38;5;28;01mdef\u001b[39;00m\u001b[38;5;250m \u001b[39m\u001b[34mget_result\u001b[39m(\u001b[38;5;28mself\u001b[39m, copy: \u001b[38;5;28mbool\u001b[39m | \u001b[38;5;28;01mNone\u001b[39;00m = \u001b[38;5;28;01mTrue\u001b[39;00m) -> DataFrame:\n\u001b[32m    883\u001b[39m     \u001b[38;5;28;01mif\u001b[39;00m \u001b[38;5;28mself\u001b[39m.indicator:\n\u001b[32m--> \u001b[39m\u001b[32m884\u001b[39m         \u001b[38;5;28mself\u001b[39m.left, \u001b[38;5;28mself\u001b[39m.right = \u001b[38;5;28mself\u001b[39m._indicator_pre_merge(\u001b[38;5;28mself\u001b[39m.left, \u001b[38;5;28mself\u001b[39m.right)\n\u001b[32m    886\u001b[39m     join_index, left_indexer, right_indexer = \u001b[38;5;28mself\u001b[39m._get_join_info()\n\u001b[32m    888\u001b[39m     result = \u001b[38;5;28mself\u001b[39m._reindex_and_concat(\n\u001b[32m    889\u001b[39m         join_index, left_indexer, right_indexer, copy=copy\n\u001b[32m    890\u001b[39m     )\n",
      "\u001b[36mFile \u001b[39m\u001b[32m/opt/miniconda3/lib/python3.13/site-packages/pandas/core/reshape/merge.py:927\u001b[39m, in \u001b[36m_MergeOperation._indicator_pre_merge\u001b[39m\u001b[34m(self, left, right)\u001b[39m\n\u001b[32m    922\u001b[39m         \u001b[38;5;28;01mraise\u001b[39;00m \u001b[38;5;167;01mValueError\u001b[39;00m(\n\u001b[32m    923\u001b[39m             \u001b[33m\"\u001b[39m\u001b[33mCannot use `indicator=True` option when \u001b[39m\u001b[33m\"\u001b[39m\n\u001b[32m    924\u001b[39m             \u001b[33mf\u001b[39m\u001b[33m\"\u001b[39m\u001b[33mdata contains a column named \u001b[39m\u001b[38;5;132;01m{\u001b[39;00mi\u001b[38;5;132;01m}\u001b[39;00m\u001b[33m\"\u001b[39m\n\u001b[32m    925\u001b[39m         )\n\u001b[32m    926\u001b[39m \u001b[38;5;28;01mif\u001b[39;00m \u001b[38;5;28mself\u001b[39m._indicator_name \u001b[38;5;129;01min\u001b[39;00m columns:\n\u001b[32m--> \u001b[39m\u001b[32m927\u001b[39m     \u001b[38;5;28;01mraise\u001b[39;00m \u001b[38;5;167;01mValueError\u001b[39;00m(\n\u001b[32m    928\u001b[39m         \u001b[33m\"\u001b[39m\u001b[33mCannot use name of an existing column for indicator column\u001b[39m\u001b[33m\"\u001b[39m\n\u001b[32m    929\u001b[39m     )\n\u001b[32m    931\u001b[39m left = left.copy()\n\u001b[32m    932\u001b[39m right = right.copy()\n",
      "\u001b[31mValueError\u001b[39m: Cannot use name of an existing column for indicator column"
     ]
    }
   ],
   "source": [
    "ords_prods_merge = df_combined.merge(df_prods, on='product_id', indicator=True)\n",
    "\n",
    "# Checking merge results\n",
    "print(ords_prods_merge['_merge'].value_counts())\n"
   ]
  },
  {
   "cell_type": "code",
   "execution_count": 6,
   "id": "99764701-ff76-4ba5-b2d4-a4e1a7a6de66",
   "metadata": {},
   "outputs": [
    {
     "name": "stdout",
     "output_type": "stream",
     "text": [
      "_merge\n",
      "both          32434212\n",
      "left_only            0\n",
      "right_only           0\n",
      "Name: count, dtype: int64\n"
     ]
    }
   ],
   "source": [
    "# Removing old _merge column\n",
    "if '_merge' in df_combined.columns:\n",
    "    df_combined = df_combined.drop(columns=['_merge'])\n",
    "\n",
    "# Mergingerge\n",
    "ords_prods_merge = df_combined.merge(df_prods, on='product_id', indicator=True)\n",
    "\n",
    "print(ords_prods_merge['_merge'].value_counts())\n"
   ]
  },
  {
   "cell_type": "code",
   "execution_count": 7,
   "id": "c5493828-622d-47c3-9848-c9d45a6c66ca",
   "metadata": {},
   "outputs": [],
   "source": [
    "ords_prods_merge.to_pickle(os.path.join(path, 'ords_prods_merge.pkl'))\n"
   ]
  },
  {
   "cell_type": "markdown",
   "id": "344e4d3b-9b85-43f0-95c3-eb9859430f5e",
   "metadata": {},
   "source": [
    "Checking Export"
   ]
  },
  {
   "cell_type": "code",
   "execution_count": 8,
   "id": "59e24cff-7669-45f5-9f1b-be0ad371953e",
   "metadata": {},
   "outputs": [
    {
     "name": "stdout",
     "output_type": "stream",
     "text": [
      "Final dataframe shape: (32434212, 14)\n"
     ]
    }
   ],
   "source": [
    "df_final_check = pd.read_pickle(os.path.join(path, 'ords_prods_merge.pkl'))\n",
    "print(\"Final dataframe shape:\", df_final_check.shape)\n"
   ]
  }
 ],
 "metadata": {
  "kernelspec": {
   "display_name": "Python 3 (ipykernel)",
   "language": "python",
   "name": "python3"
  },
  "language_info": {
   "codemirror_mode": {
    "name": "ipython",
    "version": 3
   },
   "file_extension": ".py",
   "mimetype": "text/x-python",
   "name": "python",
   "nbconvert_exporter": "python",
   "pygments_lexer": "ipython3",
   "version": "3.13.5"
  }
 },
 "nbformat": 4,
 "nbformat_minor": 5
}
