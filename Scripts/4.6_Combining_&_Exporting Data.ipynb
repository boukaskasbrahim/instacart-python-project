{
 "cells": [
  {
   "cell_type": "code",
   "execution_count": 4,
   "id": "d5a4bb53-6037-45c8-aa80-5dc54e3ca9df",
   "metadata": {},
   "outputs": [],
   "source": [
    "import pandas as pd\n",
    "import os\n"
   ]
  },
  {
   "cell_type": "code",
   "execution_count": 6,
   "id": "fb9d6901-57da-4646-b758-9b1af544cfa5",
   "metadata": {},
   "outputs": [],
   "source": [
    "path = r'/Users/boukaskasbrahim/Desktop/Achievement4_Project/Prepared Data'"
   ]
  },
  {
   "cell_type": "code",
   "execution_count": 9,
   "id": "898197c2-b667-4f99-9bf1-da26e8218d9c",
   "metadata": {},
   "outputs": [],
   "source": [
    "# Orders \n",
    "df_ords = pd.read_csv(os.path.join(path, 'orders_wrangled.csv'))\n",
    "\n",
    "# New orders_products_prior\n",
    "df_ords_prior = pd.read_csv(os.path.join(path, 'orders_products_prior.csv'))\n",
    "\n",
    "# Products \n",
    "df_prods = pd.read_csv(os.path.join(path, 'products_wrangled.csv'))\n"
   ]
  },
  {
   "cell_type": "code",
   "execution_count": 10,
   "id": "c5ddfc58-87b6-4755-b0b9-6ea408e08568",
   "metadata": {},
   "outputs": [
    {
     "name": "stdout",
     "output_type": "stream",
     "text": [
      "_merge\n",
      "both          32434489\n",
      "left_only            0\n",
      "right_only           0\n",
      "Name: count, dtype: int64\n"
     ]
    }
   ],
   "source": [
    "df_merged_large = df_ords.merge(df_ords_prior, on='order_id', indicator=True)\n",
    "\n",
    "# Checking the status\n",
    "print(df_merged_large['_merge'].value_counts())\n"
   ]
  },
  {
   "cell_type": "code",
   "execution_count": 12,
   "id": "25d50a9a-8430-422d-82e8-6177950e4c87",
   "metadata": {},
   "outputs": [],
   "source": [
    "df_merged_large.to_pickle(os.path.join(path, 'orders_products_combined.pkl'))\n"
   ]
  }
 ],
 "metadata": {
  "kernelspec": {
   "display_name": "Python 3 (ipykernel)",
   "language": "python",
   "name": "python3"
  },
  "language_info": {
   "codemirror_mode": {
    "name": "ipython",
    "version": 3
   },
   "file_extension": ".py",
   "mimetype": "text/x-python",
   "name": "python",
   "nbconvert_exporter": "python",
   "pygments_lexer": "ipython3",
   "version": "3.13.5"
  }
 },
 "nbformat": 4,
 "nbformat_minor": 5
}
