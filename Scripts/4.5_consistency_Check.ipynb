{
 "cells": [
  {
   "cell_type": "code",
   "execution_count": 2,
   "id": "f470c98a-10c2-4fd9-916f-1990b75b0572",
   "metadata": {},
   "outputs": [
    {
     "name": "stdout",
     "output_type": "stream",
     "text": [
      "(49693, 5)\n",
      "(3421083, 6)\n"
     ]
    },
    {
     "data": {
      "text/html": [
       "<div>\n",
       "<style scoped>\n",
       "    .dataframe tbody tr th:only-of-type {\n",
       "        vertical-align: middle;\n",
       "    }\n",
       "\n",
       "    .dataframe tbody tr th {\n",
       "        vertical-align: top;\n",
       "    }\n",
       "\n",
       "    .dataframe thead th {\n",
       "        text-align: right;\n",
       "    }\n",
       "</style>\n",
       "<table border=\"1\" class=\"dataframe\">\n",
       "  <thead>\n",
       "    <tr style=\"text-align: right;\">\n",
       "      <th></th>\n",
       "      <th>order_id</th>\n",
       "      <th>user_id</th>\n",
       "      <th>order_number</th>\n",
       "      <th>order_dow</th>\n",
       "      <th>order_hour_of_day</th>\n",
       "      <th>days_since_prior_order</th>\n",
       "    </tr>\n",
       "  </thead>\n",
       "  <tbody>\n",
       "    <tr>\n",
       "      <th>0</th>\n",
       "      <td>2539329</td>\n",
       "      <td>1</td>\n",
       "      <td>1</td>\n",
       "      <td>2</td>\n",
       "      <td>8</td>\n",
       "      <td>NaN</td>\n",
       "    </tr>\n",
       "    <tr>\n",
       "      <th>1</th>\n",
       "      <td>2398795</td>\n",
       "      <td>1</td>\n",
       "      <td>2</td>\n",
       "      <td>3</td>\n",
       "      <td>7</td>\n",
       "      <td>15.0</td>\n",
       "    </tr>\n",
       "    <tr>\n",
       "      <th>2</th>\n",
       "      <td>473747</td>\n",
       "      <td>1</td>\n",
       "      <td>3</td>\n",
       "      <td>3</td>\n",
       "      <td>12</td>\n",
       "      <td>21.0</td>\n",
       "    </tr>\n",
       "    <tr>\n",
       "      <th>3</th>\n",
       "      <td>2254736</td>\n",
       "      <td>1</td>\n",
       "      <td>4</td>\n",
       "      <td>4</td>\n",
       "      <td>7</td>\n",
       "      <td>29.0</td>\n",
       "    </tr>\n",
       "    <tr>\n",
       "      <th>4</th>\n",
       "      <td>431534</td>\n",
       "      <td>1</td>\n",
       "      <td>5</td>\n",
       "      <td>4</td>\n",
       "      <td>15</td>\n",
       "      <td>28.0</td>\n",
       "    </tr>\n",
       "  </tbody>\n",
       "</table>\n",
       "</div>"
      ],
      "text/plain": [
       "   order_id  user_id  order_number  order_dow  order_hour_of_day  \\\n",
       "0   2539329        1             1          2                  8   \n",
       "1   2398795        1             2          3                  7   \n",
       "2    473747        1             3          3                 12   \n",
       "3   2254736        1             4          4                  7   \n",
       "4    431534        1             5          4                 15   \n",
       "\n",
       "   days_since_prior_order  \n",
       "0                     NaN  \n",
       "1                    15.0  \n",
       "2                    21.0  \n",
       "3                    29.0  \n",
       "4                    28.0  "
      ]
     },
     "execution_count": 2,
     "metadata": {},
     "output_type": "execute_result"
    }
   ],
   "source": [
    "import pandas as pd\n",
    "\n",
    "# Import datasets\n",
    "df_prods = pd.read_csv(\"/Users/boukaskasbrahim/Desktop/Achievement4_Project/Original_Data/products.csv\")\n",
    "df_ords = pd.read_csv(\"/Users/boukaskasbrahim/Desktop/Achievement4_Project/Prepared Data/orders_wrangled.csv\")\n",
    "\n",
    "# Quick checks\n",
    "print(df_prods.shape)\n",
    "print(df_ords.shape)\n",
    "\n",
    "df_prods.head()\n",
    "df_ords.head()\n"
   ]
  },
  {
   "cell_type": "code",
   "execution_count": 3,
   "id": "d9eeb1ea-01b7-4686-898e-d35e92a6be71",
   "metadata": {},
   "outputs": [
    {
     "data": {
      "text/html": [
       "<div>\n",
       "<style scoped>\n",
       "    .dataframe tbody tr th:only-of-type {\n",
       "        vertical-align: middle;\n",
       "    }\n",
       "\n",
       "    .dataframe tbody tr th {\n",
       "        vertical-align: top;\n",
       "    }\n",
       "\n",
       "    .dataframe thead th {\n",
       "        text-align: right;\n",
       "    }\n",
       "</style>\n",
       "<table border=\"1\" class=\"dataframe\">\n",
       "  <thead>\n",
       "    <tr style=\"text-align: right;\">\n",
       "      <th></th>\n",
       "      <th>order_id</th>\n",
       "      <th>user_id</th>\n",
       "      <th>order_number</th>\n",
       "      <th>order_dow</th>\n",
       "      <th>order_hour_of_day</th>\n",
       "      <th>days_since_prior_order</th>\n",
       "    </tr>\n",
       "  </thead>\n",
       "  <tbody>\n",
       "    <tr>\n",
       "      <th>count</th>\n",
       "      <td>3.421083e+06</td>\n",
       "      <td>3.421083e+06</td>\n",
       "      <td>3.421083e+06</td>\n",
       "      <td>3.421083e+06</td>\n",
       "      <td>3.421083e+06</td>\n",
       "      <td>3.214874e+06</td>\n",
       "    </tr>\n",
       "    <tr>\n",
       "      <th>mean</th>\n",
       "      <td>1.710542e+06</td>\n",
       "      <td>1.029782e+05</td>\n",
       "      <td>1.715486e+01</td>\n",
       "      <td>2.776219e+00</td>\n",
       "      <td>1.345202e+01</td>\n",
       "      <td>1.111484e+01</td>\n",
       "    </tr>\n",
       "    <tr>\n",
       "      <th>std</th>\n",
       "      <td>9.875817e+05</td>\n",
       "      <td>5.953372e+04</td>\n",
       "      <td>1.773316e+01</td>\n",
       "      <td>2.046829e+00</td>\n",
       "      <td>4.226088e+00</td>\n",
       "      <td>9.206737e+00</td>\n",
       "    </tr>\n",
       "    <tr>\n",
       "      <th>min</th>\n",
       "      <td>1.000000e+00</td>\n",
       "      <td>1.000000e+00</td>\n",
       "      <td>1.000000e+00</td>\n",
       "      <td>0.000000e+00</td>\n",
       "      <td>0.000000e+00</td>\n",
       "      <td>0.000000e+00</td>\n",
       "    </tr>\n",
       "    <tr>\n",
       "      <th>25%</th>\n",
       "      <td>8.552715e+05</td>\n",
       "      <td>5.139400e+04</td>\n",
       "      <td>5.000000e+00</td>\n",
       "      <td>1.000000e+00</td>\n",
       "      <td>1.000000e+01</td>\n",
       "      <td>4.000000e+00</td>\n",
       "    </tr>\n",
       "    <tr>\n",
       "      <th>50%</th>\n",
       "      <td>1.710542e+06</td>\n",
       "      <td>1.026890e+05</td>\n",
       "      <td>1.100000e+01</td>\n",
       "      <td>3.000000e+00</td>\n",
       "      <td>1.300000e+01</td>\n",
       "      <td>7.000000e+00</td>\n",
       "    </tr>\n",
       "    <tr>\n",
       "      <th>75%</th>\n",
       "      <td>2.565812e+06</td>\n",
       "      <td>1.543850e+05</td>\n",
       "      <td>2.300000e+01</td>\n",
       "      <td>5.000000e+00</td>\n",
       "      <td>1.600000e+01</td>\n",
       "      <td>1.500000e+01</td>\n",
       "    </tr>\n",
       "    <tr>\n",
       "      <th>max</th>\n",
       "      <td>3.421083e+06</td>\n",
       "      <td>2.062090e+05</td>\n",
       "      <td>1.000000e+02</td>\n",
       "      <td>6.000000e+00</td>\n",
       "      <td>2.300000e+01</td>\n",
       "      <td>3.000000e+01</td>\n",
       "    </tr>\n",
       "  </tbody>\n",
       "</table>\n",
       "</div>"
      ],
      "text/plain": [
       "           order_id       user_id  order_number     order_dow  \\\n",
       "count  3.421083e+06  3.421083e+06  3.421083e+06  3.421083e+06   \n",
       "mean   1.710542e+06  1.029782e+05  1.715486e+01  2.776219e+00   \n",
       "std    9.875817e+05  5.953372e+04  1.773316e+01  2.046829e+00   \n",
       "min    1.000000e+00  1.000000e+00  1.000000e+00  0.000000e+00   \n",
       "25%    8.552715e+05  5.139400e+04  5.000000e+00  1.000000e+00   \n",
       "50%    1.710542e+06  1.026890e+05  1.100000e+01  3.000000e+00   \n",
       "75%    2.565812e+06  1.543850e+05  2.300000e+01  5.000000e+00   \n",
       "max    3.421083e+06  2.062090e+05  1.000000e+02  6.000000e+00   \n",
       "\n",
       "       order_hour_of_day  days_since_prior_order  \n",
       "count       3.421083e+06            3.214874e+06  \n",
       "mean        1.345202e+01            1.111484e+01  \n",
       "std         4.226088e+00            9.206737e+00  \n",
       "min         0.000000e+00            0.000000e+00  \n",
       "25%         1.000000e+01            4.000000e+00  \n",
       "50%         1.300000e+01            7.000000e+00  \n",
       "75%         1.600000e+01            1.500000e+01  \n",
       "max         2.300000e+01            3.000000e+01  "
      ]
     },
     "execution_count": 3,
     "metadata": {},
     "output_type": "execute_result"
    }
   ],
   "source": [
    "df_ords.describe()\n"
   ]
  },
  {
   "cell_type": "markdown",
   "id": "336f51df-2171-49cc-8769-4933d7b0faae",
   "metadata": {},
   "source": [
    "### Data Consistency Check – df_ords (describe output)\n",
    "\n",
    "After running `df.describe()` on the `df_ords` dataframe, here are the main observations:\n",
    "\n",
    "- order_id, user_id, order_number:  \n",
    "  Values range from 1 up to the expected maximums. Nothing looks unusual here.  \n",
    "\n",
    "- order_dow:  \n",
    "  Minimum = 0 and Maximum = 6 → correct, since there are 7 days (0–6).  \n",
    "\n",
    "- order_hour_of_day:  \n",
    "  Minimum = 0 and Maximum = 23 → correct, since hours of the day range from 0–23.  \n",
    "\n",
    "- days_since_prior_order:  \n",
    "  Minimum = 0 and Maximum = 30 → looks correct, since 0 means “same day” and 30 means “a long gap since the last order.”  \n",
    "\n",
    "Conclusion:  \n",
    "All minimum and maximum values fall within expected ranges. No anomalies detected in this first consistency check.\n"
   ]
  },
  {
   "cell_type": "code",
   "execution_count": 5,
   "id": "530b7ba0-66b3-4e79-8f11-e3177f0099d5",
   "metadata": {},
   "outputs": [
    {
     "name": "stderr",
     "output_type": "stream",
     "text": [
      "/var/folders/fh/z04k5mcd3xz6ftdmhk_5j1m00000gn/T/ipykernel_21103/2365901188.py:2: FutureWarning: DataFrame.applymap has been deprecated. Use DataFrame.map instead.\n",
      "  weird = (df_ords[[col]].applymap(type) != df_ords[[col]].iloc[0].apply(type)).any(axis=1)\n",
      "/var/folders/fh/z04k5mcd3xz6ftdmhk_5j1m00000gn/T/ipykernel_21103/2365901188.py:2: FutureWarning: DataFrame.applymap has been deprecated. Use DataFrame.map instead.\n",
      "  weird = (df_ords[[col]].applymap(type) != df_ords[[col]].iloc[0].apply(type)).any(axis=1)\n",
      "/var/folders/fh/z04k5mcd3xz6ftdmhk_5j1m00000gn/T/ipykernel_21103/2365901188.py:2: FutureWarning: DataFrame.applymap has been deprecated. Use DataFrame.map instead.\n",
      "  weird = (df_ords[[col]].applymap(type) != df_ords[[col]].iloc[0].apply(type)).any(axis=1)\n",
      "/var/folders/fh/z04k5mcd3xz6ftdmhk_5j1m00000gn/T/ipykernel_21103/2365901188.py:2: FutureWarning: DataFrame.applymap has been deprecated. Use DataFrame.map instead.\n",
      "  weird = (df_ords[[col]].applymap(type) != df_ords[[col]].iloc[0].apply(type)).any(axis=1)\n",
      "/var/folders/fh/z04k5mcd3xz6ftdmhk_5j1m00000gn/T/ipykernel_21103/2365901188.py:2: FutureWarning: DataFrame.applymap has been deprecated. Use DataFrame.map instead.\n",
      "  weird = (df_ords[[col]].applymap(type) != df_ords[[col]].iloc[0].apply(type)).any(axis=1)\n",
      "/var/folders/fh/z04k5mcd3xz6ftdmhk_5j1m00000gn/T/ipykernel_21103/2365901188.py:2: FutureWarning: DataFrame.applymap has been deprecated. Use DataFrame.map instead.\n",
      "  weird = (df_ords[[col]].applymap(type) != df_ords[[col]].iloc[0].apply(type)).any(axis=1)\n"
     ]
    }
   ],
   "source": [
    "for col in df_ords.columns.tolist():\n",
    "    weird = (df_ords[[col]].applymap(type) != df_ords[[col]].iloc[0].apply(type)).any(axis=1)\n",
    "    if len(df_ords[weird]) > 0:\n",
    "        print(col)\n"
   ]
  },
  {
   "cell_type": "markdown",
   "id": "29b9bbee-24c2-4b91-9c48-3dc11bbf1c39",
   "metadata": {},
   "source": [
    "### Mixed-Type Data Check – df_ords\n",
    "\n",
    "I ran a loop to check each column for mixed data types using `map()`.  \n",
    "\n",
    "- Result: No mixed-type columns were found.  \n",
    "- Action: No changes were needed.  \n",
    "\n",
    "**Conclusion:** All columns in the `df_ords` dataframe contain consistent data types.\n"
   ]
  },
  {
   "cell_type": "code",
   "execution_count": 6,
   "id": "bb5e23a5-4643-4a97-a269-59f2debea557",
   "metadata": {},
   "outputs": [
    {
     "data": {
      "text/plain": [
       "order_id                       0\n",
       "user_id                        0\n",
       "order_number                   0\n",
       "order_dow                      0\n",
       "order_hour_of_day              0\n",
       "days_since_prior_order    206209\n",
       "dtype: int64"
      ]
     },
     "execution_count": 6,
     "metadata": {},
     "output_type": "execute_result"
    }
   ],
   "source": [
    "df_ords.isnull().sum()\n"
   ]
  },
  {
   "cell_type": "markdown",
   "id": "9dc137ed-b626-4afc-a920-692c73507d6f",
   "metadata": {},
   "source": [
    "### Missing Values – df_ords\n",
    "\n",
    "I checked for missing values with `isnull().sum()`.  \n",
    "\n",
    "- All columns are complete except **`days_since_prior_order`**, which has 206,209 missing values.  \n",
    "- This is normal, because when a customer makes their very first order, there is no “previous order” to calculate days from.  \n",
    "\n",
    "**Action:** I decided to keep these missing values as they are, since they carry meaning (they show first orders).  \n"
   ]
  },
  {
   "cell_type": "code",
   "execution_count": 7,
   "id": "3e8b7127-a58f-40cf-91c0-3e405edf8cd9",
   "metadata": {},
   "outputs": [
    {
     "name": "stdout",
     "output_type": "stream",
     "text": [
      "(0, 6)\n"
     ]
    }
   ],
   "source": [
    "df_dups = df_ords[df_ords.duplicated()]\n",
    "print(df_dups.shape)\n"
   ]
  },
  {
   "cell_type": "markdown",
   "id": "4a187dc5-94f2-4220-9b5a-b8e6b3569dc1",
   "metadata": {},
   "source": [
    "no duplicate rows."
   ]
  },
  {
   "cell_type": "code",
   "execution_count": 10,
   "id": "d055c747-5853-498b-90c6-6d59604e31a8",
   "metadata": {},
   "outputs": [],
   "source": [
    "\n",
    "df_prods.to_csv(\"/Users/boukaskasbrahim/Desktop/Achievement4_Project/Prepared Data/products_checked.csv\", index=False)\n",
    "\n",
    "df_ords.to_csv(\"/Users/boukaskasbrahim/Desktop/Achievement4_Project/Prepared Data/orders_checked.csv\", index=False)\n"
   ]
  },
  {
   "cell_type": "markdown",
   "id": "844457ed-4fd5-4d09-b9c3-2b9eeb540709",
   "metadata": {},
   "source": [
    "\n",
    "I exported the final cleaned dataframes:  \n",
    "- `products_checked.csv`  \n",
    "- `orders_checked.csv`  \n"
   ]
  }
 ],
 "metadata": {
  "kernelspec": {
   "display_name": "Python 3 (ipykernel)",
   "language": "python",
   "name": "python3"
  },
  "language_info": {
   "codemirror_mode": {
    "name": "ipython",
    "version": 3
   },
   "file_extension": ".py",
   "mimetype": "text/x-python",
   "name": "python",
   "nbconvert_exporter": "python",
   "pygments_lexer": "ipython3",
   "version": "3.13.5"
  }
 },
 "nbformat": 4,
 "nbformat_minor": 5
}
