{
 "cells": [
  {
   "cell_type": "code",
   "execution_count": 18,
   "id": "fe154306-55b9-4cd3-b704-4027342bcde1",
   "metadata": {},
   "outputs": [],
   "source": [
    "path = r'/Users/boukaskasbrahim/Desktop/Achievement4_Project/Original Data'\n",
    "df_cust = pd.read_csv(os.path.join(path, 'customers.csv'))\n",
    "\n",
    "import matplotlib.pyplot as plt\n",
    "import seaborn as sns\n"
   ]
  },
  {
   "cell_type": "code",
   "execution_count": 8,
   "id": "a6fec891-50ba-4c5d-aff6-dc567e499ed9",
   "metadata": {},
   "outputs": [
    {
     "name": "stdout",
     "output_type": "stream",
     "text": [
      "<class 'pandas.core.frame.DataFrame'>\n",
      "RangeIndex: 206209 entries, 0 to 206208\n",
      "Data columns (total 10 columns):\n",
      " #   Column        Non-Null Count   Dtype \n",
      "---  ------        --------------   ----- \n",
      " 0   user_id       206209 non-null  int64 \n",
      " 1   First Name    194950 non-null  object\n",
      " 2   Surnam        206209 non-null  object\n",
      " 3   Gender        206209 non-null  object\n",
      " 4   STATE         206209 non-null  object\n",
      " 5   Age           206209 non-null  int64 \n",
      " 6   date_joined   206209 non-null  object\n",
      " 7   n_dependants  206209 non-null  int64 \n",
      " 8   fam_status    206209 non-null  object\n",
      " 9   income        206209 non-null  int64 \n",
      "dtypes: int64(4), object(6)\n",
      "memory usage: 15.7+ MB\n"
     ]
    }
   ],
   "source": [
    "df_cust.head()\n",
    "df_cust.info()\n"
   ]
  },
  {
   "cell_type": "code",
   "execution_count": 9,
   "id": "6716b058-9189-44bd-bbe0-ba3b5ae32c29",
   "metadata": {},
   "outputs": [
    {
     "name": "stdout",
     "output_type": "stream",
     "text": [
      "<class 'pandas.core.frame.DataFrame'>\n",
      "RangeIndex: 206209 entries, 0 to 206208\n",
      "Data columns (total 8 columns):\n",
      " #   Column                Non-Null Count   Dtype         \n",
      "---  ------                --------------   -----         \n",
      " 0   customer_id           206209 non-null  int64         \n",
      " 1   Gender                206209 non-null  object        \n",
      " 2   STATE                 206209 non-null  object        \n",
      " 3   Age                   206209 non-null  int64         \n",
      " 4   date_joined           206209 non-null  datetime64[ns]\n",
      " 5   number_of_dependents  206209 non-null  int64         \n",
      " 6   family_status         206209 non-null  object        \n",
      " 7   income                206209 non-null  int64         \n",
      "dtypes: datetime64[ns](1), int64(4), object(3)\n",
      "memory usage: 12.6+ MB\n"
     ]
    }
   ],
   "source": [
    "# Renaming columns for clarity\n",
    "df_cust.rename(columns={\n",
    "    'user_id': 'customer_id',\n",
    "    'Surnam': 'Surname',\n",
    "    'First Name': 'first_name',\n",
    "    'fam_status': 'family_status',\n",
    "    'n_dependants': 'number_of_dependents'\n",
    "}, inplace=True)\n",
    "\n",
    "# Droping unnecessary personal columns\n",
    "df_cust.drop(columns=['first_name', 'Surname'], inplace=True)\n",
    "\n",
    "# Convert date to datetime\n",
    "df_cust['date_joined'] = pd.to_datetime(df_cust['date_joined'])\n",
    "\n",
    "# Checking\n",
    "df_cust.info()\n"
   ]
  },
  {
   "cell_type": "code",
   "execution_count": 12,
   "id": "60b87b7b-7f4e-4dbf-84a7-a0981577eb14",
   "metadata": {},
   "outputs": [],
   "source": [
    "ords_prods_merge.rename(columns={'user_id': 'customer_id'}, inplace=True)\n",
    "\n",
    "df_final = ords_prods_merge.merge(df_cust, on='customer_id', how='outer')\n"
   ]
  },
  {
   "cell_type": "code",
   "execution_count": 13,
   "id": "e98542b2-2221-483a-ad3a-4e9837716505",
   "metadata": {},
   "outputs": [
    {
     "name": "stdout",
     "output_type": "stream",
     "text": [
      "<class 'pandas.core.frame.DataFrame'>\n",
      "RangeIndex: 32434212 entries, 0 to 32434211\n",
      "Data columns (total 21 columns):\n",
      " #   Column                  Dtype         \n",
      "---  ------                  -----         \n",
      " 0   order_id                int64         \n",
      " 1   customer_id             int64         \n",
      " 2   order_number            int64         \n",
      " 3   order_dow               int64         \n",
      " 4   order_hour_of_day       int64         \n",
      " 5   days_since_prior_order  float64       \n",
      " 6   product_id              int64         \n",
      " 7   add_to_cart_order       int64         \n",
      " 8   reordered               int64         \n",
      " 9   product_name            object        \n",
      " 10  aisle_id                int64         \n",
      " 11  department_id           int64         \n",
      " 12  prices                  float64       \n",
      " 13  _merge                  category      \n",
      " 14  Gender                  object        \n",
      " 15  STATE                   object        \n",
      " 16  Age                     int64         \n",
      " 17  date_joined             datetime64[ns]\n",
      " 18  number_of_dependents    int64         \n",
      " 19  family_status           object        \n",
      " 20  income                  int64         \n",
      "dtypes: category(1), datetime64[ns](1), float64(2), int64(13), object(4)\n",
      "memory usage: 4.9+ GB\n"
     ]
    },
    {
     "data": {
      "text/html": [
       "<div>\n",
       "<style scoped>\n",
       "    .dataframe tbody tr th:only-of-type {\n",
       "        vertical-align: middle;\n",
       "    }\n",
       "\n",
       "    .dataframe tbody tr th {\n",
       "        vertical-align: top;\n",
       "    }\n",
       "\n",
       "    .dataframe thead th {\n",
       "        text-align: right;\n",
       "    }\n",
       "</style>\n",
       "<table border=\"1\" class=\"dataframe\">\n",
       "  <thead>\n",
       "    <tr style=\"text-align: right;\">\n",
       "      <th></th>\n",
       "      <th>customer_id</th>\n",
       "      <th>Gender</th>\n",
       "      <th>Age</th>\n",
       "      <th>income</th>\n",
       "    </tr>\n",
       "  </thead>\n",
       "  <tbody>\n",
       "    <tr>\n",
       "      <th>9941568</th>\n",
       "      <td>63206</td>\n",
       "      <td>Male</td>\n",
       "      <td>61</td>\n",
       "      <td>96433</td>\n",
       "    </tr>\n",
       "    <tr>\n",
       "      <th>20620743</th>\n",
       "      <td>130986</td>\n",
       "      <td>Male</td>\n",
       "      <td>64</td>\n",
       "      <td>52917</td>\n",
       "    </tr>\n",
       "    <tr>\n",
       "      <th>4836013</th>\n",
       "      <td>30844</td>\n",
       "      <td>Female</td>\n",
       "      <td>26</td>\n",
       "      <td>87714</td>\n",
       "    </tr>\n",
       "    <tr>\n",
       "      <th>9608602</th>\n",
       "      <td>60969</td>\n",
       "      <td>Female</td>\n",
       "      <td>53</td>\n",
       "      <td>115568</td>\n",
       "    </tr>\n",
       "    <tr>\n",
       "      <th>3083179</th>\n",
       "      <td>19822</td>\n",
       "      <td>Female</td>\n",
       "      <td>60</td>\n",
       "      <td>117917</td>\n",
       "    </tr>\n",
       "  </tbody>\n",
       "</table>\n",
       "</div>"
      ],
      "text/plain": [
       "          customer_id  Gender  Age  income\n",
       "9941568         63206    Male   61   96433\n",
       "20620743       130986    Male   64   52917\n",
       "4836013         30844  Female   26   87714\n",
       "9608602         60969  Female   53  115568\n",
       "3083179         19822  Female   60  117917"
      ]
     },
     "execution_count": 13,
     "metadata": {},
     "output_type": "execute_result"
    }
   ],
   "source": [
    "df_final.info()\n",
    "df_final.head()\n",
    "df_final[['customer_id', 'Gender', 'Age', 'income']].sample(5)\n"
   ]
  },
  {
   "cell_type": "code",
   "execution_count": 19,
   "id": "a17a171d-1cb6-4b52-935c-d2648a62c4b8",
   "metadata": {},
   "outputs": [
    {
     "data": {
      "image/png": "[encoded data removed]",
      "text/plain": [
       "<Figure size 640x480 with 1 Axes>"
      ]
     },
     "metadata": {},
     "output_type": "display_data"
    }
   ],
   "source": [
    "df_final['order_hour_of_day'].plot.hist(bins=24)\n",
    "plt.title('Distribution of Orders by Hour of Day')\n",
    "plt.xlabel('Hour of Day')\n",
    "plt.ylabel('Number of Orders')\n",
    "plt.savefig(os.path.join(path, 'orders_by_hour.png'))\n",
    "plt.show()\n"
   ]
  },
  {
   "cell_type": "code",
   "execution_count": 24,
   "id": "72b978d5-76e4-4389-82a4-660320361a11",
   "metadata": {
    "scrolled": true
   },
   "outputs": [
    {
     "data": {
      "image/png": "[encoded data removed]",
      "text/plain": [
       "<Figure size 640x480 with 1 Axes>"
      ]
     },
     "metadata": {},
     "output_type": "display_data"
    }
   ],
   "source": [
    "df_final['loyalty_flag'].value_counts().plot.bar(color='skyblue')\n",
    "plt.title('Customer Loyalty Distribution')\n",
    "plt.xlabel('Loyalty Category')\n",
    "plt.ylabel('Number of Customers')\n",
    "plt.savefig(os.path.join(path, 'loyalty_distribution.png'))\n",
    "plt.show()\n"
   ]
  },
  {
   "cell_type": "markdown",
   "id": "3fd8e56c-fb60-4ec3-9399-9e3cce8fd9a9",
   "metadata": {},
   "source": [
    "This bar chart shows the distribution of customers across different loyalty categories.  \n",
    "Most customers fall into the \"Regular\" and \"Loyal\" groups, while a smaller portion are classified as \"Very Loyal\".  \n",
    "\n"
   ]
  },
  {
   "cell_type": "code",
   "execution_count": 25,
   "id": "4892f16b-25f7-461b-abe6-cb4fe3cda6a7",
   "metadata": {},
   "outputs": [
    {
     "data": {
      "image/png": "[encoded data removed]",
      "text/plain": [
       "<Figure size 640x480 with 1 Axes>"
      ]
     },
     "metadata": {},
     "output_type": "display_data"
    }
   ],
   "source": [
    "np.random.seed(4)  \n",
    "sample = df_final.sample(frac=0.05) \n",
    "\n",
    "sns.lineplot(data=sample, x='order_hour_of_day', y='prices')\n",
    "plt.title('Average Expenditure by Hour of Day')\n",
    "plt.xlabel('Hour of Day')\n",
    "plt.ylabel('Average Price ($)')\n",
    "plt.savefig(os.path.join(path, 'expenditure_by_hour.png'))\n",
    "plt.show()\n"
   ]
  },
  {
   "cell_type": "markdown",
   "id": "1758257f-abbc-4bec-ace1-4addf382ad38",
   "metadata": {},
   "source": [
    "This line chart compares average product prices across different order hours.  \n",
    "It shows whether customers tend to spend more at certain times of day, highlighting possible peak hours for higher-value orders.\n"
   ]
  },
  {
   "cell_type": "code",
   "execution_count": null,
   "id": "6d3c7d94-3365-4a4a-ab53-18b164951bb2",
   "metadata": {},
   "outputs": [],
   "source": [
    "np.random.seed(4)\n",
    "sample = df_final.sample(frac=0.05)  \n",
    "\n",
    "sns.lineplot(data=sample, x='Age', y='number_of_dependents')\n",
    "plt.title('Age vs. Number of Dependents')\n",
    "plt.xlabel('Age')\n",
    "plt.ylabel('Number of Dependents')\n",
    "plt.savefig(os.path.join(path, 'age_dependents.png'))\n",
    "plt.show()\n"
   ]
  },
  {
   "cell_type": "markdown",
   "id": "900a06de-8dd0-4129-8bd3-826a57dd2122",
   "metadata": {},
   "source": [
    "This line chart shows the relationship between customer age and the number of dependents.  \n",
    "It helps identify demographic patterns, such as which age groups are more likely to have dependents, which is useful for family-focused marketing.\n"
   ]
  },
  {
   "cell_type": "code",
   "execution_count": null,
   "id": "635bb15c-9380-430b-988b-c3119df1b0f9",
   "metadata": {},
   "outputs": [],
   "source": [
    "np.random.seed(4)\n",
    "sample = df_final.sample(frac=0.05)\n",
    "\n",
    "sns.scatterplot(data=sample, x='Age', y='income', alpha=0.3)\n",
    "plt.title('Age vs. Income Distribution')\n",
    "plt.xlabel('Age')\n",
    "plt.ylabel('Income ($)')\n",
    "plt.savefig(os.path.join(path, 'age_income.png'))\n",
    "plt.show()\n"
   ]
  },
  {
   "cell_type": "markdown",
   "id": "7b53cdb1-fcbe-4e35-867c-9ddbab2015e0",
   "metadata": {},
   "source": [
    "This scatterplot illustrates the relationship between age and income.  \n",
    "It shows whether income generally increases with age and highlights variability among customers within the same age groups.\n"
   ]
  },
  {
   "cell_type": "markdown",
   "id": "ded54dae-be97-4af7-97e2-d835f45c5d5d",
   "metadata": {},
   "source": [
    "### Note on Sampling for Visualizations\n",
    "\n",
    "Since the dataset contains over 32 million rows, plotting the full data would be very slow and resource-intensive.  \n",
    "To make the charts run faster while still keeping them representative, I used **random sampling (5% of the data)**.  \n",
    "This approach reduces processing time and memory usage but still shows the overall patterns and trends accurately.\n"
   ]
  },
  {
   "cell_type": "code",
   "execution_count": 1,
   "id": "b6466516-4387-4f30-b9ea-414d56dbb564",
   "metadata": {},
   "outputs": [
    {
     "ename": "NameError",
     "evalue": "name 'ords_prods_merge' is not defined",
     "output_type": "error",
     "traceback": [
      "\u001b[31m---------------------------------------------------------------------------\u001b[39m",
      "\u001b[31mNameError\u001b[39m                                 Traceback (most recent call last)",
      "\u001b[36mCell\u001b[39m\u001b[36m \u001b[39m\u001b[32mIn[1]\u001b[39m\u001b[32m, line 1\u001b[39m\n\u001b[32m----> \u001b[39m\u001b[32m1\u001b[39m ords_prods_merge.shape\n\u001b[32m      2\u001b[39m customers.shape\n",
      "\u001b[31mNameError\u001b[39m: name 'ords_prods_merge' is not defined"
     ]
    }
   ],
   "source": [
    "ords_prods_merge.shape\n",
    "customers.shape\n"
   ]
  },
  {
   "cell_type": "code",
   "execution_count": 2,
   "id": "902d3f3b-735d-4094-8b0a-9abb253606af",
   "metadata": {},
   "outputs": [],
   "source": [
    "import pandas as pd\n"
   ]
  },
  {
   "cell_type": "code",
   "execution_count": 3,
   "id": "d31807be-7e25-4c2f-8a63-73804d67ecdd",
   "metadata": {},
   "outputs": [],
   "source": [
    "ords_prods_merge = pd.read_pickle(r\"/Users/boukaskasbrahim/Desktop/Achievement4_Project/Prepared Data/ords_prods_merge.pkl\")\n",
    "customers = pd.read_csv(r\"/Users/boukaskasbrahim/Desktop/Achievement4_Project/Original Data/customers.csv\")\n"
   ]
  },
  {
   "cell_type": "code",
   "execution_count": 4,
   "id": "70869d8a-0f00-40f2-881f-1883cad2efa9",
   "metadata": {},
   "outputs": [
    {
     "name": "stdout",
     "output_type": "stream",
     "text": [
      "(32434212, 14)\n",
      "(206209, 10)\n"
     ]
    }
   ],
   "source": [
    "print(ords_prods_merge.shape)\n",
    "print(customers.shape)\n"
   ]
  },
  {
   "cell_type": "code",
   "execution_count": 5,
   "id": "6c5f91b6-f223-4708-9147-2f39297fdfec",
   "metadata": {},
   "outputs": [
    {
     "ename": "KeyError",
     "evalue": "'customer_id'",
     "output_type": "error",
     "traceback": [
      "\u001b[31m---------------------------------------------------------------------------\u001b[39m",
      "\u001b[31mKeyError\u001b[39m                                  Traceback (most recent call last)",
      "\u001b[32m/var/folders/fh/z04k5mcd3xz6ftdmhk_5j1m00000gn/T/ipykernel_17494/3404536918.py\u001b[39m in \u001b[36m?\u001b[39m\u001b[34m()\u001b[39m\n\u001b[32m----> \u001b[39m\u001b[32m1\u001b[39m ords_prods_cust_merge = ords_prods_merge.merge(customers, on=\u001b[33m\"customer_id\"\u001b[39m, how=\u001b[33m\"left\"\u001b[39m)\n",
      "\u001b[32m/opt/miniconda3/lib/python3.13/site-packages/pandas/core/frame.py\u001b[39m in \u001b[36m?\u001b[39m\u001b[34m(self, right, how, on, left_on, right_on, left_index, right_index, sort, suffixes, copy, indicator, validate)\u001b[39m\n\u001b[32m  10835\u001b[39m         validate: MergeValidate | \u001b[38;5;28;01mNone\u001b[39;00m = \u001b[38;5;28;01mNone\u001b[39;00m,\n\u001b[32m  10836\u001b[39m     ) -> DataFrame:\n\u001b[32m  10837\u001b[39m         \u001b[38;5;28;01mfrom\u001b[39;00m pandas.core.reshape.merge \u001b[38;5;28;01mimport\u001b[39;00m merge\n\u001b[32m  10838\u001b[39m \n\u001b[32m> \u001b[39m\u001b[32m10839\u001b[39m         return merge(\n\u001b[32m  10840\u001b[39m             self,\n\u001b[32m  10841\u001b[39m             right,\n\u001b[32m  10842\u001b[39m             how=how,\n",
      "\u001b[32m/opt/miniconda3/lib/python3.13/site-packages/pandas/core/reshape/merge.py\u001b[39m in \u001b[36m?\u001b[39m\u001b[34m(left, right, how, on, left_on, right_on, left_index, right_index, sort, suffixes, copy, indicator, validate)\u001b[39m\n\u001b[32m    166\u001b[39m             validate=validate,\n\u001b[32m    167\u001b[39m             copy=copy,\n\u001b[32m    168\u001b[39m         )\n\u001b[32m    169\u001b[39m     \u001b[38;5;28;01melse\u001b[39;00m:\n\u001b[32m--> \u001b[39m\u001b[32m170\u001b[39m         op = _MergeOperation(\n\u001b[32m    171\u001b[39m             left_df,\n\u001b[32m    172\u001b[39m             right_df,\n\u001b[32m    173\u001b[39m             how=how,\n",
      "\u001b[32m/opt/miniconda3/lib/python3.13/site-packages/pandas/core/reshape/merge.py\u001b[39m in \u001b[36m?\u001b[39m\u001b[34m(self, left, right, how, on, left_on, right_on, left_index, right_index, sort, suffixes, indicator, validate)\u001b[39m\n\u001b[32m    790\u001b[39m             self.right_join_keys,\n\u001b[32m    791\u001b[39m             self.join_names,\n\u001b[32m    792\u001b[39m             left_drop,\n\u001b[32m    793\u001b[39m             right_drop,\n\u001b[32m--> \u001b[39m\u001b[32m794\u001b[39m         ) = self._get_merge_keys()\n\u001b[32m    795\u001b[39m \n\u001b[32m    796\u001b[39m         \u001b[38;5;28;01mif\u001b[39;00m left_drop:\n\u001b[32m    797\u001b[39m             self.left = self.left._drop_labels_or_levels(left_drop)\n",
      "\u001b[32m/opt/miniconda3/lib/python3.13/site-packages/pandas/core/reshape/merge.py\u001b[39m in \u001b[36m?\u001b[39m\u001b[34m(self)\u001b[39m\n\u001b[32m   1294\u001b[39m                         \u001b[38;5;66;03m# Then we're either Hashable or a wrong-length arraylike,\u001b[39;00m\n\u001b[32m   1295\u001b[39m                         \u001b[38;5;66;03m#  the latter of which will raise\u001b[39;00m\n\u001b[32m   1296\u001b[39m                         rk = cast(Hashable, rk)\n\u001b[32m   1297\u001b[39m                         \u001b[38;5;28;01mif\u001b[39;00m rk \u001b[38;5;28;01mis\u001b[39;00m \u001b[38;5;28;01mnot\u001b[39;00m \u001b[38;5;28;01mNone\u001b[39;00m:\n\u001b[32m-> \u001b[39m\u001b[32m1298\u001b[39m                             right_keys.append(right._get_label_or_level_values(rk))\n\u001b[32m   1299\u001b[39m                         \u001b[38;5;28;01melse\u001b[39;00m:\n\u001b[32m   1300\u001b[39m                             \u001b[38;5;66;03m# work-around for merge_asof(right_index=True)\u001b[39;00m\n\u001b[32m   1301\u001b[39m                             right_keys.append(right.index._values)\n",
      "\u001b[32m/opt/miniconda3/lib/python3.13/site-packages/pandas/core/generic.py\u001b[39m in \u001b[36m?\u001b[39m\u001b[34m(self, key, axis)\u001b[39m\n\u001b[32m   1907\u001b[39m             values = self.xs(key, axis=other_axes[\u001b[32m0\u001b[39m])._values\n\u001b[32m   1908\u001b[39m         \u001b[38;5;28;01melif\u001b[39;00m self._is_level_reference(key, axis=axis):\n\u001b[32m   1909\u001b[39m             values = self.axes[axis].get_level_values(key)._values\n\u001b[32m   1910\u001b[39m         \u001b[38;5;28;01melse\u001b[39;00m:\n\u001b[32m-> \u001b[39m\u001b[32m1911\u001b[39m             \u001b[38;5;28;01mraise\u001b[39;00m KeyError(key)\n\u001b[32m   1912\u001b[39m \n\u001b[32m   1913\u001b[39m         \u001b[38;5;66;03m# Check for duplicates\u001b[39;00m\n\u001b[32m   1914\u001b[39m         \u001b[38;5;28;01mif\u001b[39;00m values.ndim > \u001b[32m1\u001b[39m:\n",
      "\u001b[31mKeyError\u001b[39m: 'customer_id'"
     ]
    }
   ],
   "source": [
    "ords_prods_cust_merge = ords_prods_merge.merge(customers, on=\"customer_id\", how=\"left\")\n"
   ]
  },
  {
   "cell_type": "code",
   "execution_count": 6,
   "id": "af831d8b-c2e8-492b-be2e-cd3ac37df1b3",
   "metadata": {},
   "outputs": [
    {
     "name": "stdout",
     "output_type": "stream",
     "text": [
      "ords_prods_merge columns: ['order_id', 'user_id', 'order_number', 'order_dow', 'order_hour_of_day', 'days_since_prior_order', 'product_id', 'add_to_cart_order', 'reordered', 'product_name', 'aisle_id', 'department_id', 'prices', '_merge']\n",
      "customers columns: ['user_id', 'First Name', 'Surnam', 'Gender', 'STATE', 'Age', 'date_joined', 'n_dependants', 'fam_status', 'income']\n"
     ]
    }
   ],
   "source": [
    "print(\"ords_prods_merge columns:\", ords_prods_merge.columns.tolist())\n",
    "print(\"customers columns:\", customers.columns.tolist())\n"
   ]
  },
  {
   "cell_type": "code",
   "execution_count": 7,
   "id": "2fe2606f-586f-4cd0-b63c-a2d24d33e55d",
   "metadata": {},
   "outputs": [],
   "source": [
    "ords_prods_merge.rename(columns={'user_id': 'customer_id'}, inplace=True)\n"
   ]
  },
  {
   "cell_type": "code",
   "execution_count": 9,
   "id": "cc99c801-950f-4886-bb5f-c9e53000fb23",
   "metadata": {},
   "outputs": [
    {
     "name": "stdout",
     "output_type": "stream",
     "text": [
      "ords_prods_merge columns: ['order_id', 'customer_id', 'order_number', 'order_dow', 'order_hour_of_day', 'days_since_prior_order', 'product_id', 'add_to_cart_order', 'reordered', 'product_name', 'aisle_id', 'department_id', 'prices', '_merge']\n",
      "customers columns: ['user_id', 'First Name', 'Surnam', 'Gender', 'STATE', 'Age', 'date_joined', 'n_dependants', 'fam_status', 'income']\n"
     ]
    }
   ],
   "source": [
    "print(\"ords_prods_merge columns:\", ords_prods_merge.columns.tolist())\n",
    "print(\"customers columns:\", customers.columns.tolist())"
   ]
  },
  {
   "cell_type": "code",
   "execution_count": 10,
   "id": "b77c568f-9a72-44d8-bbd0-fec7fe358baa",
   "metadata": {},
   "outputs": [
    {
     "ename": "KeyError",
     "evalue": "'customer_id'",
     "output_type": "error",
     "traceback": [
      "\u001b[31m---------------------------------------------------------------------------\u001b[39m",
      "\u001b[31mKeyError\u001b[39m                                  Traceback (most recent call last)",
      "\u001b[32m/var/folders/fh/z04k5mcd3xz6ftdmhk_5j1m00000gn/T/ipykernel_17494/3404536918.py\u001b[39m in \u001b[36m?\u001b[39m\u001b[34m()\u001b[39m\n\u001b[32m----> \u001b[39m\u001b[32m1\u001b[39m ords_prods_cust_merge = ords_prods_merge.merge(customers, on=\u001b[33m\"customer_id\"\u001b[39m, how=\u001b[33m\"left\"\u001b[39m)\n",
      "\u001b[32m/opt/miniconda3/lib/python3.13/site-packages/pandas/core/frame.py\u001b[39m in \u001b[36m?\u001b[39m\u001b[34m(self, right, how, on, left_on, right_on, left_index, right_index, sort, suffixes, copy, indicator, validate)\u001b[39m\n\u001b[32m  10835\u001b[39m         validate: MergeValidate | \u001b[38;5;28;01mNone\u001b[39;00m = \u001b[38;5;28;01mNone\u001b[39;00m,\n\u001b[32m  10836\u001b[39m     ) -> DataFrame:\n\u001b[32m  10837\u001b[39m         \u001b[38;5;28;01mfrom\u001b[39;00m pandas.core.reshape.merge \u001b[38;5;28;01mimport\u001b[39;00m merge\n\u001b[32m  10838\u001b[39m \n\u001b[32m> \u001b[39m\u001b[32m10839\u001b[39m         return merge(\n\u001b[32m  10840\u001b[39m             self,\n\u001b[32m  10841\u001b[39m             right,\n\u001b[32m  10842\u001b[39m             how=how,\n",
      "\u001b[32m/opt/miniconda3/lib/python3.13/site-packages/pandas/core/reshape/merge.py\u001b[39m in \u001b[36m?\u001b[39m\u001b[34m(left, right, how, on, left_on, right_on, left_index, right_index, sort, suffixes, copy, indicator, validate)\u001b[39m\n\u001b[32m    166\u001b[39m             validate=validate,\n\u001b[32m    167\u001b[39m             copy=copy,\n\u001b[32m    168\u001b[39m         )\n\u001b[32m    169\u001b[39m     \u001b[38;5;28;01melse\u001b[39;00m:\n\u001b[32m--> \u001b[39m\u001b[32m170\u001b[39m         op = _MergeOperation(\n\u001b[32m    171\u001b[39m             left_df,\n\u001b[32m    172\u001b[39m             right_df,\n\u001b[32m    173\u001b[39m             how=how,\n",
      "\u001b[32m/opt/miniconda3/lib/python3.13/site-packages/pandas/core/reshape/merge.py\u001b[39m in \u001b[36m?\u001b[39m\u001b[34m(self, left, right, how, on, left_on, right_on, left_index, right_index, sort, suffixes, indicator, validate)\u001b[39m\n\u001b[32m    790\u001b[39m             self.right_join_keys,\n\u001b[32m    791\u001b[39m             self.join_names,\n\u001b[32m    792\u001b[39m             left_drop,\n\u001b[32m    793\u001b[39m             right_drop,\n\u001b[32m--> \u001b[39m\u001b[32m794\u001b[39m         ) = self._get_merge_keys()\n\u001b[32m    795\u001b[39m \n\u001b[32m    796\u001b[39m         \u001b[38;5;28;01mif\u001b[39;00m left_drop:\n\u001b[32m    797\u001b[39m             self.left = self.left._drop_labels_or_levels(left_drop)\n",
      "\u001b[32m/opt/miniconda3/lib/python3.13/site-packages/pandas/core/reshape/merge.py\u001b[39m in \u001b[36m?\u001b[39m\u001b[34m(self)\u001b[39m\n\u001b[32m   1294\u001b[39m                         \u001b[38;5;66;03m# Then we're either Hashable or a wrong-length arraylike,\u001b[39;00m\n\u001b[32m   1295\u001b[39m                         \u001b[38;5;66;03m#  the latter of which will raise\u001b[39;00m\n\u001b[32m   1296\u001b[39m                         rk = cast(Hashable, rk)\n\u001b[32m   1297\u001b[39m                         \u001b[38;5;28;01mif\u001b[39;00m rk \u001b[38;5;28;01mis\u001b[39;00m \u001b[38;5;28;01mnot\u001b[39;00m \u001b[38;5;28;01mNone\u001b[39;00m:\n\u001b[32m-> \u001b[39m\u001b[32m1298\u001b[39m                             right_keys.append(right._get_label_or_level_values(rk))\n\u001b[32m   1299\u001b[39m                         \u001b[38;5;28;01melse\u001b[39;00m:\n\u001b[32m   1300\u001b[39m                             \u001b[38;5;66;03m# work-around for merge_asof(right_index=True)\u001b[39;00m\n\u001b[32m   1301\u001b[39m                             right_keys.append(right.index._values)\n",
      "\u001b[32m/opt/miniconda3/lib/python3.13/site-packages/pandas/core/generic.py\u001b[39m in \u001b[36m?\u001b[39m\u001b[34m(self, key, axis)\u001b[39m\n\u001b[32m   1907\u001b[39m             values = self.xs(key, axis=other_axes[\u001b[32m0\u001b[39m])._values\n\u001b[32m   1908\u001b[39m         \u001b[38;5;28;01melif\u001b[39;00m self._is_level_reference(key, axis=axis):\n\u001b[32m   1909\u001b[39m             values = self.axes[axis].get_level_values(key)._values\n\u001b[32m   1910\u001b[39m         \u001b[38;5;28;01melse\u001b[39;00m:\n\u001b[32m-> \u001b[39m\u001b[32m1911\u001b[39m             \u001b[38;5;28;01mraise\u001b[39;00m KeyError(key)\n\u001b[32m   1912\u001b[39m \n\u001b[32m   1913\u001b[39m         \u001b[38;5;66;03m# Check for duplicates\u001b[39;00m\n\u001b[32m   1914\u001b[39m         \u001b[38;5;28;01mif\u001b[39;00m values.ndim > \u001b[32m1\u001b[39m:\n",
      "\u001b[31mKeyError\u001b[39m: 'customer_id'"
     ]
    }
   ],
   "source": [
    "ords_prods_cust_merge = ords_prods_merge.merge(customers, on=\"customer_id\", how=\"left\")\n"
   ]
  },
  {
   "cell_type": "code",
   "execution_count": 11,
   "id": "e827ff53-8f53-4642-8ff5-63df7fe40e79",
   "metadata": {},
   "outputs": [
    {
     "name": "stdout",
     "output_type": "stream",
     "text": [
      "ords_prods_merge columns:\n",
      " ['order_id', 'customer_id', 'order_number', 'order_dow', 'order_hour_of_day', 'days_since_prior_order', 'product_id', 'add_to_cart_order', 'reordered', 'product_name', 'aisle_id', 'department_id', 'prices', '_merge']\n",
      "customers columns:\n",
      " ['user_id', 'First Name', 'Surnam', 'Gender', 'STATE', 'Age', 'date_joined', 'n_dependants', 'fam_status', 'income']\n"
     ]
    }
   ],
   "source": [
    "print(\"ords_prods_merge columns:\\n\", ords_prods_merge.columns.tolist())\n",
    "print(\"customers columns:\\n\", customers.columns.tolist())\n"
   ]
  },
  {
   "cell_type": "code",
   "execution_count": null,
   "id": "ee555eff-b22e-419f-93fd-e7c0c040ba73",
   "metadata": {},
   "outputs": [],
   "source": []
  },
  {
   "cell_type": "code",
   "execution_count": 12,
   "id": "a615b34e-0211-4b4a-9ba1-5f75aa4776af",
   "metadata": {},
   "outputs": [
    {
     "name": "stdout",
     "output_type": "stream",
     "text": [
      "(32434212, 23)\n",
      "   order_id  customer_id  order_number  order_dow  order_hour_of_day  \\\n",
      "0   2539329            1             1          2                  8   \n",
      "1   2539329            1             1          2                  8   \n",
      "2   2539329            1             1          2                  8   \n",
      "3   2539329            1             1          2                  8   \n",
      "4   2539329            1             1          2                  8   \n",
      "\n",
      "   days_since_prior_order  product_id  add_to_cart_order  reordered  \\\n",
      "0                     NaN         196                  1          0   \n",
      "1                     NaN       14084                  2          0   \n",
      "2                     NaN       12427                  3          0   \n",
      "3                     NaN       26088                  4          0   \n",
      "4                     NaN       26405                  5          0   \n",
      "\n",
      "                              product_name  ...  _merge  First Name  Surnam  \\\n",
      "0                                     Soda  ...    both       Linda  Nguyen   \n",
      "1  Organic Unsweetened Vanilla Almond Milk  ...    both       Linda  Nguyen   \n",
      "2                      Original Beef Jerky  ...    both       Linda  Nguyen   \n",
      "3               Aged White Cheddar Popcorn  ...    both       Linda  Nguyen   \n",
      "4         XL Pick-A-Size Paper Towel Rolls  ...    both       Linda  Nguyen   \n",
      "\n",
      "   Gender    STATE Age date_joined n_dependants  fam_status income  \n",
      "0  Female  Alabama  31   2/17/2019            3     married  40423  \n",
      "1  Female  Alabama  31   2/17/2019            3     married  40423  \n",
      "2  Female  Alabama  31   2/17/2019            3     married  40423  \n",
      "3  Female  Alabama  31   2/17/2019            3     married  40423  \n",
      "4  Female  Alabama  31   2/17/2019            3     married  40423  \n",
      "\n",
      "[5 rows x 23 columns]\n"
     ]
    }
   ],
   "source": [
    "# Rename user_id in customers to customer_id\n",
    "customers.rename(columns={'user_id': 'customer_id'}, inplace=True)\n",
    "\n",
    "# Now merge on customer_id\n",
    "ords_prods_cust_merge = ords_prods_merge.merge(customers, on=\"customer_id\", how=\"left\")\n",
    "\n",
    "# Quick check\n",
    "print(ords_prods_cust_merge.shape)\n",
    "print(ords_prods_cust_merge.head())\n"
   ]
  },
  {
   "cell_type": "code",
   "execution_count": 13,
   "id": "32cb8c08-1c0b-4c2b-8634-8948d2696151",
   "metadata": {},
   "outputs": [],
   "source": [
    "ords_prods_cust_merge.to_pickle(r\"/Users/boukaskasbrahim/Desktop/Achievement4_Project/Prepared Data/ords_prods_customers.pkl\")\n"
   ]
  }
 ],
 "metadata": {
  "kernelspec": {
   "display_name": "Python 3 (ipykernel)",
   "language": "python",
   "name": "python3"
  },
  "language_info": {
   "codemirror_mode": {
    "name": "ipython",
    "version": 3
   },
   "file_extension": ".py",
   "mimetype": "text/x-python",
   "name": "python",
   "nbconvert_exporter": "python",
   "pygments_lexer": "ipython3",
   "version": "3.13.5"
  }
 },
 "nbformat": 4,
 "nbformat_minor": 5
}
