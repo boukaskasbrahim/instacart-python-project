{
 "cells": [
  {
   "cell_type": "code",
   "execution_count": 1,
   "id": "0a80aa1e-40cb-44eb-8b61-dfe993fdc926",
   "metadata": {},
   "outputs": [],
   "source": [
    "# Importing libraries\n",
    "import pandas as pd\n",
    "import numpy as np\n",
    "import os\n",
    "\n",
    "# Loading the merged dataset\n",
    "ords_prods_merge = pd.read_pickle(r\"/Users/boukaskasbrahim/Desktop/Achievement4_Project/Prepared Data/ords_prods_merge.pkl\")\n"
   ]
  },
  {
   "cell_type": "code",
   "execution_count": 2,
   "id": "4ce4f8e1-73bd-4221-a885-aece9e157ad0",
   "metadata": {},
   "outputs": [
    {
     "name": "stdout",
     "output_type": "stream",
     "text": [
      "department_id\n",
      "1     15.457687\n",
      "2     17.277920\n",
      "3     17.179756\n",
      "4     17.811403\n",
      "5     15.213779\n",
      "6     16.439806\n",
      "7     17.225773\n",
      "8     15.340520\n",
      "9     15.895474\n",
      "10    20.197148\n",
      "11    16.170828\n",
      "12    15.887622\n",
      "13    16.583304\n",
      "14    16.757377\n",
      "15    16.165037\n",
      "16    17.663250\n",
      "17    15.694469\n",
      "18    19.310397\n",
      "19    17.177343\n",
      "20    16.473447\n",
      "21    22.902379\n",
      "Name: order_number, dtype: float64\n"
     ]
    }
   ],
   "source": [
    "# Aggregation for entire dataframe\n",
    "dept_order_mean = ords_prods_merge.groupby('department_id')['order_number'].mean()\n",
    "\n",
    "print(dept_order_mean)\n"
   ]
  },
  {
   "cell_type": "markdown",
   "id": "8ec702fd-add0-4487-9d0f-267e124bf6e1",
   "metadata": {},
   "source": [
    "### Mean Order Numbers by Department\n",
    "\n",
    "The table above shows the **average number of orders** placed per department across the **entire dataset**.  \n",
    "\n",
    "Compared to the earlier subset analysis, these results are more reliable since they include all available records.  \n",
    "- The averages vary across departments, generally ranging between ~15 and ~23 orders.  \n",
    "- Some departments (e.g., ID 21) have noticeably higher average order numbers than others.  \n",
    "- This suggests that certain departments consistently attract more repeat orders, while others see fewer.  \n",
    "\n",
    "By analyzing the full dataset, we reduce sampling bias and get a more accurate picture of customer behavior in each department.\n"
   ]
  },
  {
   "cell_type": "code",
   "execution_count": 4,
   "id": "98cf9460-f960-4b39-91b1-36ebf256ca39",
   "metadata": {},
   "outputs": [
    {
     "name": "stderr",
     "output_type": "stream",
     "text": [
      "/var/folders/fh/z04k5mcd3xz6ftdmhk_5j1m00000gn/T/ipykernel_22623/4196074309.py:2: FutureWarning: The provided callable <function max at 0x10817fa60> is currently using SeriesGroupBy.max. In a future version of pandas, the provided callable will be used directly. To keep current behavior pass the string \"max\" instead.\n",
      "  ords_prods_merge['max_order'] = ords_prods_merge.groupby('user_id')['order_number'].transform(np.max)\n"
     ]
    },
    {
     "data": {
      "text/plain": [
       "loyalty_flag\n",
       "Regular Customer    15891077\n",
       "Loyal Customer      10293737\n",
       "New Customer         6249398\n",
       "Name: count, dtype: int64"
      ]
     },
     "execution_count": 4,
     "metadata": {},
     "output_type": "execute_result"
    }
   ],
   "source": [
    "# Creating a max_order column\n",
    "ords_prods_merge['max_order'] = ords_prods_merge.groupby('user_id')['order_number'].transform(np.max)\n",
    "\n",
    "# Creating loyalty_flag based on criteria\n",
    "ords_prods_merge.loc[ords_prods_merge['max_order'] > 40, 'loyalty_flag'] = 'Loyal Customer'\n",
    "ords_prods_merge.loc[(ords_prods_merge['max_order'] <= 40) & \n",
    "                     (ords_prods_merge['max_order'] > 10), 'loyalty_flag'] = 'Regular Customer'\n",
    "ords_prods_merge.loc[ords_prods_merge['max_order'] <= 10, 'loyalty_flag'] = 'New Customer'\n",
    "\n",
    "# Checking results\n",
    "ords_prods_merge['loyalty_flag'].value_counts()\n"
   ]
  },
  {
   "cell_type": "markdown",
   "id": "1518dc66-e352-4c37-bc5f-0e2981852d02",
   "metadata": {},
   "source": [
    "### Loyalty Flag Results\n",
    "\n",
    "The loyalty flag was successfully created using the maximum number of orders per user:\n",
    "\n",
    "- **Loyal Customers**: more than 40 orders  \n",
    "- **Regular Customers**: 11–40 orders  \n",
    "- **New Customers**: 10 or fewer orders\n",
    "\n",
    "\n",
    "The counts show that the majority of users are **Regular Customers**, followed by **Loyal Customers** and then **New Customers**.  \n",
    "This segmentation provides valuable insights \n"
   ]
  },
  {
   "cell_type": "code",
   "execution_count": 5,
   "id": "eec84b99-4a19-46b3-b9e9-ca1544851b3d",
   "metadata": {},
   "outputs": [
    {
     "name": "stdout",
     "output_type": "stream",
     "text": [
      "                       count       mean         std  min  25%  50%   75%  \\\n",
      "loyalty_flag                                                               \n",
      "Loyal Customer    10293737.0  10.388747  327.864108  1.0  4.2  7.4  11.2   \n",
      "New Customer       6249398.0  13.294370  597.301692  1.0  4.2  7.4  11.3   \n",
      "Regular Customer  15891077.0  12.496203  539.478009  1.0  4.2  7.4  11.3   \n",
      "\n",
      "                      max  \n",
      "loyalty_flag               \n",
      "Loyal Customer    99999.0  \n",
      "New Customer      99999.0  \n",
      "Regular Customer  99999.0  \n"
     ]
    }
   ],
   "source": [
    "# Descriptive statistics for product prices by loyalty_flag\n",
    "price_stats = ords_prods_merge.groupby('loyalty_flag')['prices'].describe()\n",
    "\n",
    "print(price_stats)\n"
   ]
  },
  {
   "cell_type": "markdown",
   "id": "0b97cdbc-9d49-4244-aa4a-b1789a031b86",
   "metadata": {},
   "source": [
    "### Product Prices by Loyalty Category\n",
    "\n",
    "The table shows descriptive statistics for product prices across the three loyalty groups:\n",
    "\n",
    "- **Loyal Customers**: average price ≈ 10.39  \n",
    "- **Regular Customers**: average price ≈ 12.50  \n",
    "- **New Customers**: average price ≈ 13.29  \n",
    "\n",
    "Across all groups, the median price (≈ 7.4) and the quartiles (≈ 4.2 and 11.2–11.3) are very similar.  \n",
    "\n",
    "**Insights:**\n",
    "- Loyal customers tend to purchase slightly cheaper products on average.  \n",
    "- Regular and new customers lean toward somewhat higher-priced items.  \n",
    "- Since the distributions are close, loyalty appears to be more about **order frequency** rather than choosing premium products.  \n",
    "\n",
    "This means Instacart might want to encourage loyal customers with **bundle offers or discounts**, while targeting new customers with **higher-value product promotions**."
   ]
  },
  {
   "cell_type": "code",
   "execution_count": 8,
   "id": "55afb550-94f5-43ed-b390-dc8574b76306",
   "metadata": {},
   "outputs": [
    {
     "data": {
      "text/plain": [
       "spending_flag\n",
       "Low spender     31798751\n",
       "High spender      635461\n",
       "Name: count, dtype: int64"
      ]
     },
     "execution_count": 8,
     "metadata": {},
     "output_type": "execute_result"
    }
   ],
   "source": [
    "# Step 1: Calculating the mean price per user\n",
    "ords_prods_merge['avg_price'] = ords_prods_merge.groupby('user_id')['prices'].transform('mean')\n",
    "\n",
    "# Step 2: Creating spending_flag\n",
    "ords_prods_merge.loc[ords_prods_merge['avg_price'] < 10, 'spending_flag'] = 'Low spender'\n",
    "ords_prods_merge.loc[ords_prods_merge['avg_price'] >= 10, 'spending_flag'] = 'High spender'\n",
    "\n",
    "# Checking distribution\n",
    "ords_prods_merge['spending_flag'].value_counts()\n"
   ]
  },
  {
   "cell_type": "markdown",
   "id": "f8989d49-403e-414f-b373-ff293600ba42",
   "metadata": {},
   "source": [
    "### Spending Flag Results\n",
    "\n",
    "The spending flag was created based on each user’s **average product price**:  \n",
    "- **Low spender**: avg < 10  \n",
    "- **High spender**: avg ≥ 10  \n",
    "\n",
    "The results show that the majority of users fall into the **Low spender** category (≈ 31.8 million), while a much smaller group are **High spenders** (≈ 635k).  \n",
    "\n",
    "**Insights:**  \n",
    "- Most Instacart customers prefer lower-priced items.  \n",
    "- The high spender group is relatively small but could represent a valuable target for premium product promotions.\n"
   ]
  },
  {
   "cell_type": "code",
   "execution_count": 9,
   "id": "8fd90fea-5382-49d8-901a-c3dee25eb40b",
   "metadata": {},
   "outputs": [
    {
     "data": {
      "text/plain": [
       "frequency_flag\n",
       "Frequent customer        21577409\n",
       "Regular customer          7217134\n",
       "Non-frequent customer     3639669\n",
       "Name: count, dtype: int64"
      ]
     },
     "execution_count": 9,
     "metadata": {},
     "output_type": "execute_result"
    }
   ],
   "source": [
    "#  1: Median days_since_prior_order per user\n",
    "ords_prods_merge['median_days'] = ords_prods_merge.groupby('user_id')['days_since_prior_order'].transform('median')\n",
    "\n",
    "#  2: Assigning frequency_flag\n",
    "ords_prods_merge.loc[ords_prods_merge['median_days'] > 20, 'frequency_flag'] = 'Non-frequent customer'\n",
    "ords_prods_merge.loc[(ords_prods_merge['median_days'] > 10) & \n",
    "                     (ords_prods_merge['median_days'] <= 20), 'frequency_flag'] = 'Regular customer'\n",
    "ords_prods_merge.loc[ords_prods_merge['median_days'] <= 10, 'frequency_flag'] = 'Frequent customer'\n",
    "\n",
    "#  3: Checking distribution\n",
    "ords_prods_merge['frequency_flag'].value_counts()\n"
   ]
  },
  {
   "cell_type": "code",
   "execution_count": 10,
   "id": "eb1574c4-1d97-4a73-9e7c-a924aa8b8199",
   "metadata": {},
   "outputs": [],
   "source": [
    "# Exporting enriched dataframe as pickle\n",
    "ords_prods_merge.to_pickle(r\"/Users/boukaskasbrahim/Desktop/Achievement4_Project/Prepared Data/ords_prods_merge_enriched.pkl\")\n"
   ]
  }
 ],
 "metadata": {
  "kernelspec": {
   "display_name": "Python 3 (ipykernel)",
   "language": "python",
   "name": "python3"
  },
  "language_info": {
   "codemirror_mode": {
    "name": "ipython",
    "version": 3
   },
   "file_extension": ".py",
   "mimetype": "text/x-python",
   "name": "python",
   "nbconvert_exporter": "python",
   "pygments_lexer": "ipython3",
   "version": "3.13.5"
  }
 },
 "nbformat": 4,
 "nbformat_minor": 5
}
